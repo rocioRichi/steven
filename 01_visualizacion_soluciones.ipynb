{
 "cells": [
  {
   "cell_type": "markdown",
   "id": "783d5bb8",
   "metadata": {},
   "source": [
    "# Visualización de Datos en Python\n",
    "\n",
    "Profesor: Steven Van Vaerenbergh  \n",
    "27 de junio de 2023  \n",
    "Curso CA.2.1 Python para el análisis de datos  "
   ]
  },
  {
   "cell_type": "markdown",
   "id": "131f8e7b",
   "metadata": {},
   "source": [
    "## Índice\n",
    "\n",
    "1. [Introducción](#1.-Introducción)  \n",
    "\n",
    "2. [Matplotlib](#2.-Matplotlib)  \n",
    "   - [A. Introducción a Matplotlib](#2.A.-Introducción-a-Matplotlib)\n",
    "   - [B. Creación de diferentes tipos de gráficos con Matplotlib](#2.B.-Creación-de-diferentes-tipos-de-gráficos-con-Matplotlib)  \n",
    "   - [C. Guardar figuras](#2.C.-Guardar-figuras)\n",
    "   - [D. Personalización de gráficos](#2.D.-Personalización-de-gráficos)  \n",
    "   - [E. Ejercicio práctico](#2.E.-Ejercicio-práctico)  \n",
    "   \n",
    "3. [Breve introducción a Seaborn](#3.-Breve-introducción-a-Seaborn)  \n",
    "   - [A. ¿Qué es Seaborn?](#3.A.-¿Qué-es-Seaborn?)  \n",
    "   - [B. Primeros pasos con Seaborn](#3.B.-Primeros-pasos-con-Seaborn) \n",
    "   \n",
    "4. [Plotly](#4.-Plotly)\n",
    "   - [A. ¿Qué es Plotly?](#4.A.-¿Qué-es-Plotly?)  \n",
    "   - [B. Ejemplo 2D: Gráfico de Dispersión Interactivo](#4.B.-Ejemplo-2D:-Gráfico-de-Dispersión-Interactivo)  \n",
    "   - [C. Ejemplo 3D: Gráfico de Dispersión 3D](#4.C.-Ejemplo-3D:-Gráfico-de-Dispersión-3D)  \n",
    "   \n",
    "5. [Conclusión](#5.-Conclusión)  \n",
    "   - [A. Recapitulación rápida](#5.A.-Recapitulación-rápida)  \n",
    "   - [B. Recursos para aprendizaje posterior](#5.B.-Recursos-para-aprendizaje-posterior)  \n",
    "   - [C. Tiempo para preguntas](#5.C.-Tiempo-para-preguntas)  "
   ]
  },
  {
   "cell_type": "markdown",
   "id": "57c06b45",
   "metadata": {},
   "source": [
    "## 1. Introducción\n",
    "\n",
    "La visualización de datos es una parte esencial de la ciencia de datos. Nos permite comprender los patrones, tendencias y correlaciones que podrían no ser evidentes en los datos brutos. Python, siendo uno de los lenguajes de programación más populares en el campo de la ciencia de datos, ofrece una variedad de bibliotecas para visualizar datos.\n",
    "\n",
    "En esta clase, nos centraremos en tres de ellas: Matplotlib, Seaborn y Plotly."
   ]
  },
  {
   "cell_type": "markdown",
   "id": "2d42f463",
   "metadata": {},
   "source": [
    "### Matplotlib\n",
    "Matplotlib es una de las bibliotecas de visualización de datos más utilizadas en Python. Proporciona una forma rápida de visualizar los datos y crear gráficos estáticos, animados e interactivos en Python. Matplotlib es altamente personalizable y se puede utilizar para crear una amplia variedad de gráficos. Es la \"navaja suiza\" entre las bibliotecas de visualización de Python.\n",
    "\n",
    "### Seaborn\n",
    "Seaborn es otra biblioteca de visualización de datos en Python, que se basa en Matplotlib. Proporciona una interfaz de alto nivel para dibujar gráficos estadísticos atractivos e informativos. Seaborn es especialmente útil para visualizar patrones complejos en datos multidimensionales.\n",
    "\n",
    "### Plotly\n",
    "Plotly es una biblioteca de gráficos que permite crear gráficos interactivos de alta calidad. Con Plotly, puedes crear una variedad de gráficos que van desde simples gráficos de líneas hasta visualizaciones 3D complejas. A diferencia de Matplotlib y Seaborn, Plotly crea gráficos que son interactivos por defecto.\n"
   ]
  },
  {
   "cell_type": "markdown",
   "id": "b5f3a111",
   "metadata": {},
   "source": [
    "## 2. Matplotlib\n",
    "\n",
    " ![Matplotlib](https://matplotlib.org/_static/logo2.png)"
   ]
  },
  {
   "cell_type": "markdown",
   "id": "c33ad8d3",
   "metadata": {},
   "source": [
    "### 2.A. Introducción a Matplotlib"
   ]
  },
  {
   "cell_type": "markdown",
   "id": "7b2afae4",
   "metadata": {},
   "source": [
    "Matplotlib es una biblioteca de visualización de datos en Python que permite la creación de gráficos estáticos, animados e interactivos. Es una de las herramientas más utilizadas y versátiles para la visualización de datos, ya que permite gran control sobre todos los aspectos del gráfico, desde los colores y estilos hasta la creación de gráficos complejos con varias subtramas.\n",
    "\n",
    "Creada por John D. Hunter en 2002, Matplotlib ha crecido hasta convertirse en una herramienta fundamental para cualquier científico de datos o investigador que utilice Python. Muchas de las otras bibliotecas de visualización de datos en Python, como Seaborn, se construyen sobre Matplotlib, extendiendo su funcionalidad y haciéndola más accesible.\n",
    "\n",
    "A continuación, vamos a ver cómo utilizar Matplotlib para crear varios tipos de gráficos, desde los más simples hasta los más complejos. Empezaremos importando la biblioteca e introduciendo algunas de sus funcionalidades básicas.\n"
   ]
  },
  {
   "cell_type": "code",
   "execution_count": null,
   "id": "f72c2c4e",
   "metadata": {},
   "outputs": [],
   "source": [
    "import matplotlib.pyplot as plt"
   ]
  },
  {
   "cell_type": "markdown",
   "id": "618369c6",
   "metadata": {},
   "source": [
    "Para utilizar Matplotlib, primero necesitamos importarla. La convención estándar es importar `matplotlib.pyplot` como `plt`.\n",
    "\n",
    "La biblioteca Pyplot proporciona una interfaz que permite la creación de una variedad de gráficos, y se estructura de manera que permite la creación de gráficos de la misma forma que lo haríamos en MATLAB, un lenguaje de programación ampliamente utilizado por los ingenieros y científicos.\n",
    "\n",
    "A lo largo de esta sección, veremos cómo podemos usar Matplotlib para crear varios tipos de gráficos, como gráficos de líneas, gráficos de barras, histogramas y más.\n"
   ]
  },
  {
   "cell_type": "markdown",
   "id": "ec4c0f78",
   "metadata": {},
   "source": [
    "### 2.B. Creación de diferentes tipos de gráficos con Matplotlib"
   ]
  },
  {
   "cell_type": "markdown",
   "id": "86472d5d",
   "metadata": {},
   "source": [
    "#### Gráficos de líneas\n"
   ]
  },
  {
   "cell_type": "code",
   "execution_count": null,
   "id": "4f7cce38",
   "metadata": {},
   "outputs": [],
   "source": [
    "# Creamos unos datos de ejemplo. Cambia algunos puntos y observa cómo cambia la figura\n",
    "x = [1, 2, 3, 4, 5]\n",
    "y = [1, 4, 9, 16, 25]\n",
    "\n",
    "# Creamos un gráfico de línea simple\n",
    "plt.plot(x, y)\n",
    "plt.title('Gráfico de líneas')  # Cambia el título\n",
    "plt.xlabel('Eje X')  # Cambia las etiquetas de los ejes\n",
    "plt.ylabel('Eje Y')\n",
    "plt.show()"
   ]
  },
  {
   "cell_type": "markdown",
   "id": "91c01c44",
   "metadata": {},
   "source": [
    "#### Gráfico de dispersión (scatter plot)"
   ]
  },
  {
   "cell_type": "code",
   "execution_count": null,
   "id": "0f012032",
   "metadata": {},
   "outputs": [],
   "source": [
    "# Importamos numpy para usar el generador de números aleatorios\n",
    "import numpy as np\n",
    "\n",
    "# Creamos dos clusters de datos aleatorios\n",
    "np.random.seed(0)  # para reproducibilidad\n",
    "x1 = np.random.normal(1, 0.5, 100)  # 100 datos con media 1 y desviación estándar 0.5\n",
    "y1 = np.random.normal(1, 0.5, 100)\n",
    "x2 = np.random.normal(2, 0.5, 100)  # 100 datos con media 2 y desviación estándar 0.5\n",
    "y2 = np.random.normal(2, 0.5, 100)\n",
    "\n",
    "# Creamos un gráfico de dispersión para cada cluster\n",
    "plt.scatter(x1, y1, color='red', marker='o', label='Cluster 1')  # Cluster 1 de color rojo, marcador de círculo\n",
    "plt.scatter(x2, y2, color='blue', marker='x', label='Cluster 2')  # Cluster 2 de color azul, marcador de equis\n",
    "\n",
    "plt.title('Gráfico de dispersión con 2 clusters')  \n",
    "plt.xlabel('Eje X')  \n",
    "plt.ylabel('Eje Y')\n",
    "\n",
    "plt.legend(loc='upper left')  # Añadimos la leyenda en la esquina superior izquierda\n",
    "plt.show()"
   ]
  },
  {
   "cell_type": "markdown",
   "id": "2d0fbf67",
   "metadata": {},
   "source": [
    "#### Gráficos de barras\n"
   ]
  },
  {
   "cell_type": "code",
   "execution_count": null,
   "id": "6368ab88",
   "metadata": {},
   "outputs": [],
   "source": [
    "# Creamos un gráfico de barras. Cambia los nombres y los valores\n",
    "nombres = ['A', 'B', 'C', 'D', 'E']\n",
    "valores = [23, 45, 56, 78, 13]\n",
    "\n",
    "plt.bar(nombres, valores, color='green')  # Cambiar el color\n",
    "plt.title('Gráfico de barras')  \n",
    "plt.xlabel('Nombres')  \n",
    "plt.ylabel('Valores')\n",
    "plt.show()"
   ]
  },
  {
   "cell_type": "markdown",
   "id": "2f3ba094",
   "metadata": {},
   "source": [
    "#### Diagrama de tarta (Pie chart)\n"
   ]
  },
  {
   "cell_type": "code",
   "execution_count": null,
   "id": "53c40c1c",
   "metadata": {},
   "outputs": [],
   "source": [
    "# Creamos un diagrama de tarta. Cambia los labels y los tamaños\n",
    "labels = ['A', 'B', 'C', 'D']\n",
    "sizes = [15, 30, 45, 10]\n",
    "colors = ['#ff9999','#66b3ff','#99ff99','#ffcc99']  # Cambiar los colores\n",
    "plt.pie(sizes, labels=labels, colors=colors, autopct='%1.1f%%')  # Cambiar el formato de los porcentajes\n",
    "plt.title('Diagrama de tarta')\n",
    "plt.show()"
   ]
  },
  {
   "cell_type": "markdown",
   "id": "52f0c2e4",
   "metadata": {},
   "source": [
    "#### Histograma"
   ]
  },
  {
   "cell_type": "code",
   "execution_count": null,
   "id": "0b4e0e29",
   "metadata": {},
   "outputs": [],
   "source": [
    "# Creamos un histograma. Añade algunos puntos\n",
    "datos = [1, 1.1, 1.2, 1.3, 2.2, 2.9, 3, 3.5, 3.6, 4, 4.5, 4.7, 4.8, 5]\n",
    "\n",
    "plt.hist(datos, bins=5, facecolor='lightblue', edgecolor='black')  # Cambiar el número de bins y el color\n",
    "plt.title('Histograma')  \n",
    "plt.xlabel('Valores')  \n",
    "plt.ylabel('Frecuencia')\n",
    "plt.show()"
   ]
  },
  {
   "cell_type": "markdown",
   "id": "d1b6b6af",
   "metadata": {},
   "source": [
    "### 2.C. Guardar figuras"
   ]
  },
  {
   "cell_type": "markdown",
   "id": "607f79fc",
   "metadata": {},
   "source": [
    "Un aspecto útil de la visualización de datos es la capacidad de guardar las figuras generadas para su uso en informes, presentaciones, sitios web, etc. Matplotlib proporciona la función `savefig()` para este propósito. Simplemente debes especificar el nombre del archivo (y, opcionalmente, el camino si quieres guardar el archivo en una ubicación específica), y Matplotlib guardará la figura en ese archivo."
   ]
  },
  {
   "cell_type": "code",
   "execution_count": null,
   "id": "d63756c6",
   "metadata": {},
   "outputs": [],
   "source": [
    "# Creamos algunos datos y un gráfico\n",
    "x = np.linspace(0, 10, 100)\n",
    "y = np.sin(x)\n",
    "\n",
    "plt.plot(x, y, label='sin(x)')\n",
    "plt.title('Gráfico de una función seno')\n",
    "plt.xlabel('Eje X')\n",
    "plt.ylabel('Eje Y')\n",
    "plt.legend()\n",
    "\n",
    "plt.gca().set_facecolor('white')  # Configura el color de fondo de la figura como blanco\n",
    "\n",
    "# Guardamos la figura como PNG con DPI ajustado, márgenes apretados y fondo blanco\n",
    "plt.savefig('sin_function.png', dpi=150, bbox_inches='tight', facecolor='w')\n",
    "\n",
    "# Guardamos como PDF\n",
    "plt.savefig('sin_function.pdf')"
   ]
  },
  {
   "cell_type": "markdown",
   "id": "59729adb",
   "metadata": {},
   "source": [
    "Los archivos 'sin_function.png' y 'sin_function.pdf' se guardarán en el mismo directorio desde el que estás ejecutando este código. Si quieres especificar una ubicación diferente, puedes proporcionar la ruta completa.\n",
    "\n",
    "También puedes especificar otros parámetros en `savefig()`, como la DPI (puntos por pulgada) para ajustar la resolución de la imagen, y `bbox_inches` para incluir partes del gráfico que se salen del área principal de la figura (como las leyendas)."
   ]
  },
  {
   "cell_type": "markdown",
   "id": "0fd87725",
   "metadata": {},
   "source": [
    "### 2.D. Personalización de gráficos"
   ]
  },
  {
   "cell_type": "markdown",
   "id": "60728179",
   "metadata": {},
   "source": [
    "Una de las grandes ventajas de Matplotlib es su flexibilidad para personalizar gráficos. Desde colores y estilos de líneas hasta la adición de texto en posiciones específicas, la biblioteca ofrece una gran variedad de opciones.\n",
    "\n",
    "Aquí, veremos cómo se pueden personalizar algunos elementos comunes en un gráfico, como colores, títulos y etiquetas de los ejes, leyendas y anotaciones.\n"
   ]
  },
  {
   "cell_type": "code",
   "execution_count": null,
   "id": "25f5a3c8",
   "metadata": {},
   "outputs": [],
   "source": [
    "# Datos\n",
    "x = np.linspace(0, 10, 500)\n",
    "y = np.sin(x)\n",
    "\n",
    "# Creación del gráfico\n",
    "plt.figure(figsize=(10, 6))\n",
    "\n",
    "# Visualizamos los datos\n",
    "plt.plot(x, y, label='sin(x)', color='purple', linewidth=2, linestyle='--')\n",
    "\n",
    "# Cambiamos el tamaño y el peso de la fuente del título\n",
    "plt.title('Gráfico personalizado en Matplotlib', fontsize=16, fontweight='bold')\n",
    "plt.xlabel('Eje X', fontsize=14) # Cambia el tamaño de la fuente de las etiquetas de los ejes\n",
    "plt.ylabel('Eje Y', fontsize=14)\n",
    "\n",
    "# Añadimos la leyenda\n",
    "plt.legend(loc='lower left')\n",
    "\n",
    "# Añadimos una cuadrícula\n",
    "plt.grid(True)\n",
    "\n",
    "# Añadimos un texto\n",
    "plt.text(7.5, 0.7, 'Texto en (7.5, 0.7)', fontsize=12, color='red', bbox=dict(facecolor='none', edgecolor='red'))\n",
    "\n",
    "# Añadimos una anotación con una flecha\n",
    "plt.annotate('Máximo local', xy=(1.5, 1), xytext=(3, 1.03), arrowprops=dict(facecolor='black', arrowstyle='->'))\n",
    "\n",
    "plt.show()"
   ]
  },
  {
   "cell_type": "markdown",
   "id": "5f933090",
   "metadata": {},
   "source": [
    "Como puedes ver, hemos cambiado varios aspectos de este gráfico, incluyendo el tamaño del gráfico, el color, el grosor y el estilo de la línea, el tamaño y el peso de la fuente del título y de las etiquetas de los ejes, la posición de la leyenda, la adición de una cuadrícula, y la adición de texto y anotaciones con flechas.\n",
    "\n",
    "Veremos algos ejemplo más:"
   ]
  },
  {
   "cell_type": "markdown",
   "id": "d1101a06",
   "metadata": {},
   "source": [
    "#### Histograma con varias series y transparencia\n",
    "\n",
    "Este ejemplo muestra cómo crear un histograma con múltiples series y ajustar la transparencia para facilitar la visualización."
   ]
  },
  {
   "cell_type": "code",
   "execution_count": null,
   "id": "68dcf5e4",
   "metadata": {},
   "outputs": [],
   "source": [
    "# Datos\n",
    "np.random.seed(0)\n",
    "x1 = np.random.normal(0, 0.8, 1000)\n",
    "x2 = np.random.normal(-2, 1, 1000)\n",
    "x3 = np.random.normal(3, 2, 1000)\n",
    "\n",
    "# Gráfico\n",
    "kwargs = dict(histtype='stepfilled', alpha=0.3, bins=40)\n",
    "\n",
    "plt.hist(x1, **kwargs)\n",
    "plt.hist(x2, **kwargs)\n",
    "plt.hist(x3, **kwargs)\n",
    "\n",
    "plt.title('Histograma con transparencia', fontsize=16)\n",
    "plt.xlabel('Valor', fontsize=14)\n",
    "plt.ylabel('Frecuencia', fontsize=14)\n",
    "\n",
    "plt.show()"
   ]
  },
  {
   "cell_type": "markdown",
   "id": "23035ebf",
   "metadata": {},
   "source": [
    "#### Gráfico de líneas con varios subplots"
   ]
  },
  {
   "cell_type": "markdown",
   "id": "ab0e0ae0",
   "metadata": {},
   "source": [
    "Este ejemplo muestra cómo crear múltiples subgráficos en la misma figura."
   ]
  },
  {
   "cell_type": "code",
   "execution_count": null,
   "id": "8b2955d0",
   "metadata": {},
   "outputs": [],
   "source": [
    "# Datos\n",
    "x = np.linspace(0, 2 * np.pi, 400)\n",
    "y1 = np.sin(x)\n",
    "y2 = np.cos(x)\n",
    "\n",
    "# Gráfico\n",
    "fig, ax = plt.subplots(2)\n",
    "\n",
    "ax[0].plot(x, y1, color='red')\n",
    "ax[0].set_title('Seno de x', fontsize=14)\n",
    "ax[0].set_ylabel('sin(x)', fontsize=12)\n",
    "\n",
    "ax[1].plot(x, y2, color='blue')\n",
    "ax[1].set_title('Coseno de x', fontsize=14)\n",
    "ax[1].set_xlabel('x', fontsize=12)\n",
    "ax[1].set_ylabel('cos(x)', fontsize=12)\n",
    "\n",
    "fig.subplots_adjust(hspace=0.5) # Ajusta el espacio entre los subplots\n",
    "\n",
    "plt.show()"
   ]
  },
  {
   "cell_type": "markdown",
   "id": "83c5531f",
   "metadata": {},
   "source": [
    "#### Gráfico de barras horizontales con etiquetas de texto, colores y patrones personalizados"
   ]
  },
  {
   "cell_type": "markdown",
   "id": "afef8d6a",
   "metadata": {},
   "source": [
    "Este ejemplo muestra cómo se pueden añadir etiquetas de texto a las barras en un gráfico de barras. En este caso, las etiquetas muestran el valor exacto de cada barra. Además, se personalizan los colores y los patrones de las barras."
   ]
  },
  {
   "cell_type": "code",
   "execution_count": null,
   "id": "22d981e1",
   "metadata": {},
   "outputs": [],
   "source": [
    "# Datos\n",
    "categorias = ['A', 'B', 'C', 'D', 'E']\n",
    "valores = [7, 12, 16, 9, 17]\n",
    "\n",
    "# Colores\n",
    "color=['#1f77b4', '#ff7f0e', '#2ca02c', '#d62728', '#9467bd']\n",
    "\n",
    "# Gráfico\n",
    "plt.barh(categorias, valores, color=color, hatch='//')\n",
    "plt.title('Gráfico de barras horizontales con etiquetas de texto', fontsize=16)\n",
    "plt.xlabel('Valores', fontsize=14)\n",
    "plt.ylabel('Categorías', fontsize=14)\n",
    "\n",
    "for i, v in enumerate(valores):\n",
    "    plt.text(v, i, f\" {v}\", color='black', va='center', fontweight='bold')\n",
    "\n",
    "plt.show()\n"
   ]
  },
  {
   "cell_type": "markdown",
   "id": "fb4cdcd3",
   "metadata": {},
   "source": [
    "Recuerda que hay muchísimas más opciones de personalización en Matplotlib. Te invito a explorar la [documentación oficial](https://matplotlib.org/stable/contents.html) para descubrir más."
   ]
  },
  {
   "cell_type": "markdown",
   "id": "71c874d4",
   "metadata": {},
   "source": [
    "### 2.E. Ejercicio práctico"
   ]
  },
  {
   "cell_type": "markdown",
   "id": "2e0e6794",
   "metadata": {},
   "source": [
    "Ahora que hemos revisado los conceptos básicos y algunas técnicas de personalización en Matplotlib, es tu turno de poner en práctica lo que has aprendido. Aquí tienes tres ejercicios para que elijas uno y lo resuelvas. Si tienes tiempo, te animo a que intentes resolver más de uno.\n",
    "\n",
    "**Ejercicio 1: Gráfico de Líneas**\n",
    "- Genera un array de números entre 0 y 10 con `numpy.linspace()`.\n",
    "- Crea dos funciones `y1` y `y2` que sean respectivamente el seno y el coseno de x.\n",
    "- Crea un gráfico de líneas que muestre ambas funciones en la misma figura.\n",
    "- Personaliza el gráfico con un título, etiquetas para los ejes x e y, y una leyenda que diferencie las dos funciones.\n",
    "- Finalmente, guarda la figura en formato PNG.\n",
    "\n",
    "Por supuesto, aquí tienes una alternativa de ejercicio de histograma con su respectiva solución:\n",
    "\n",
    "**Ejercicio 2: Histograma acumulativo**\n",
    "\n",
    "- Genera una serie de datos con `numpy.random.randn()`.\n",
    "- Crea un histograma que muestre la distribución acumulada de los datos, usando la opción `cumulative=True`.\n",
    "- Personaliza el gráfico con un título, etiquetas para los ejes x e y, y asegúrate de que el histograma muestra los percentiles 25, 50 y 75 de los datos.\n",
    "- Finalmente, guarda la figura en formato PNG.\n",
    "\n",
    "**Ejercicio 3: Gráfico de Dispersión**\n",
    "- Genera dos series de datos con `numpy.random.rand()`.\n",
    "- Crea un gráfico de dispersión que muestre la relación entre las dos series de datos.\n",
    "- Personaliza el gráfico con un título, etiquetas para los ejes x e y, y utiliza la opción `c` para mostrar los puntos con colores basados en una tercera serie generada con `numpy.random.rand()`.\n",
    "- Añade una barra de colores para mostrar la escala de los colores utilizados.\n",
    "- Finalmente, guarda la figura en formato PNG."
   ]
  },
  {
   "cell_type": "markdown",
   "id": "949ee1e8",
   "metadata": {},
   "source": [
    "#### Solución del Ejercicio 1: Gráfico de Líneas"
   ]
  },
  {
   "cell_type": "code",
   "execution_count": null,
   "id": "6fa72d40",
   "metadata": {},
   "outputs": [],
   "source": [
    "x = np.linspace(0, 10, 100)\n",
    "y1 = np.sin(x)\n",
    "y2 = np.cos(x)\n",
    "\n",
    "plt.plot(x, y1, label='sin(x)')\n",
    "plt.plot(x, y2, label='cos(x)')\n",
    "\n",
    "plt.title('Gráfico de líneas de las funciones seno y coseno')\n",
    "plt.xlabel('Eje X')\n",
    "plt.ylabel('Eje Y')\n",
    "plt.legend()\n",
    "\n",
    "plt.show()"
   ]
  },
  {
   "cell_type": "markdown",
   "id": "f6853e17",
   "metadata": {},
   "source": [
    "#### Solución del Ejercicio 2: Histograma"
   ]
  },
  {
   "cell_type": "code",
   "execution_count": null,
   "id": "d43a7944",
   "metadata": {},
   "outputs": [],
   "source": [
    "np.random.seed(0)\n",
    "x = np.random.randn(1000)\n",
    "\n",
    "plt.hist(x, bins=30, cumulative=True, histtype='step', color='blue')\n",
    "\n",
    "plt.axhline(y=250, color='r', linestyle='dashed', linewidth=2, label='25%')\n",
    "plt.axhline(y=500, color='g', linestyle='dashed', linewidth=2, label='50%')\n",
    "plt.axhline(y=750, color='y', linestyle='dashed', linewidth=2, label='75%')\n",
    "\n",
    "plt.title('Histograma acumulativo con percentiles')\n",
    "plt.xlabel('Valor')\n",
    "plt.ylabel('Frecuencia acumulada')\n",
    "plt.legend()\n",
    "\n",
    "plt.show()"
   ]
  },
  {
   "cell_type": "markdown",
   "id": "46e8e891",
   "metadata": {},
   "source": [
    "#### Solución del Ejercicio 3: Gráfico de Dispersión"
   ]
  },
  {
   "cell_type": "code",
   "execution_count": null,
   "id": "c2938b1e",
   "metadata": {},
   "outputs": [],
   "source": [
    "np.random.seed(0)\n",
    "x = np.random.rand(200)\n",
    "y = np.random.rand(200)\n",
    "colors = np.random.rand(200)\n",
    "\n",
    "plt.scatter(x, y, c=colors, cmap='viridis')\n",
    "\n",
    "plt.colorbar()\n",
    "plt.title('Gráfico de dispersión con colores basados en una tercera serie')\n",
    "plt.xlabel('Eje X')\n",
    "plt.ylabel('Eje Y')\n",
    "\n",
    "plt.show()"
   ]
  },
  {
   "cell_type": "markdown",
   "id": "e574b0ce",
   "metadata": {},
   "source": [
    "## 3. Breve introducción a Seaborn"
   ]
  },
  {
   "cell_type": "markdown",
   "id": "ef3aad27",
   "metadata": {},
   "source": [
    "### 3.A. ¿Qué es Seaborn?"
   ]
  },
  {
   "cell_type": "markdown",
   "id": "0d3c2ba5",
   "metadata": {},
   "source": [
    "Seaborn es una biblioteca de visualización de datos en Python basada en Matplotlib. Proporciona una interfaz de alto nivel para dibujar gráficos estadísticos atractivos e informativos.\n",
    "\n",
    "Seaborn es particularmente útil cuando se trabaja con DataFrames de Pandas, ya que está diseñado para funcionar directamente con estos. Proporciona opciones para ajustar el estilo visual y las paletas de colores de tus gráficos, y hace que sea fácil y rápido crear gráficos complejos."
   ]
  },
  {
   "cell_type": "markdown",
   "id": "22ac4d8d",
   "metadata": {},
   "source": [
    "### 3.B. Primeros pasos con Seaborn"
   ]
  },
  {
   "cell_type": "markdown",
   "id": "8824111f",
   "metadata": {},
   "source": [
    "Si lo necesitas, puedes instalar Seaborn usando `pip` o `conda` desde este notebook. Para ello ejecuta el comando `import sys` y una de los dos comandos comentados:"
   ]
  },
  {
   "cell_type": "code",
   "execution_count": null,
   "id": "58a3497a",
   "metadata": {},
   "outputs": [],
   "source": [
    "#import sys\n",
    "\n",
    "#!{sys.executable} -m pip install seaborn\n",
    "\n",
    "#!conda install --yes --prefix {sys.prefix} seaborn"
   ]
  },
  {
   "cell_type": "code",
   "execution_count": null,
   "id": "ccd79e05",
   "metadata": {},
   "outputs": [],
   "source": [
    "# Importamos las bibliotecas necesarias\n",
    "import seaborn as sns\n",
    "import pandas as pd\n",
    "\n",
    "# Cargamos el conjunto de datos de ejemplo \"Iris\" que viene con Seaborn\n",
    "iris = sns.load_dataset(\"iris\")\n",
    "\n",
    "# Mostramos las primeras 5 filas del DataFrame\n",
    "iris.head()"
   ]
  },
  {
   "cell_type": "markdown",
   "id": "4eff7830",
   "metadata": {},
   "source": [
    "Este conjunto de datos contiene medidas de 150 flores iris de tres especies diferentes."
   ]
  },
  {
   "cell_type": "code",
   "execution_count": null,
   "id": "32a6b734",
   "metadata": {},
   "outputs": [],
   "source": [
    "# Creamos un gráfico de pares (pairplot) con Seaborn\n",
    "sns.pairplot(iris, hue=\"species\")\n",
    "\n",
    "# Mostramos el gráfico\n",
    "plt.show()"
   ]
  },
  {
   "cell_type": "markdown",
   "id": "eaf5009a",
   "metadata": {},
   "source": [
    "El gráfico de pares muestra las relaciones entre pares de características en nuestro DataFrame. Este tipo de gráfico es extremadamente útil para explorar rápidamente las relaciones entre las variables de tu dataset."
   ]
  },
  {
   "cell_type": "markdown",
   "id": "26618d75",
   "metadata": {},
   "source": [
    "Este es solo un breve vistazo a lo que puedes hacer con Seaborn. Seaborn puede manejar una variedad de tipos de gráficos, incluyendo gráficos de distribución, de matriz, de tiempo y muchos más. Puedes ver más ejemplos en la [galería de figuras de Seaborn](https://seaborn.pydata.org/examples/index.html).\n"
   ]
  },
  {
   "cell_type": "markdown",
   "id": "086677cf",
   "metadata": {},
   "source": [
    "## 4. Plotly"
   ]
  },
  {
   "cell_type": "markdown",
   "id": "a58f7043",
   "metadata": {},
   "source": [
    "### 4.A. ¿Qué es Plotly?"
   ]
  },
  {
   "cell_type": "markdown",
   "id": "21c29100",
   "metadata": {},
   "source": [
    "Plotly es una biblioteca de visualización de datos en Python que te permite crear una variedad de gráficos interactivos. A diferencia de Matplotlib y Seaborn, los gráficos de Plotly se pueden explorar interactivamente. Puedes hacer zoom, desplazar, ver tooltips e incluso hacer girar los gráficos 3D. Además, Plotly es altamente personalizable y te permite crear gráficos bastante complejos."
   ]
  },
  {
   "cell_type": "markdown",
   "id": "31e6a001",
   "metadata": {},
   "source": [
    "Si lo necesitas, puedes instalar plotly usando pip o conda desde este notebook. Para ello ejecuta el comando import sys y una de los dos comandos comentados:"
   ]
  },
  {
   "cell_type": "code",
   "execution_count": null,
   "id": "59cd822f",
   "metadata": {},
   "outputs": [],
   "source": [
    "#import sys\n",
    "\n",
    "#!{sys.executable} -m pip install plotly\n",
    "\n",
    "#!conda install --yes --prefix {sys.prefix} plotly"
   ]
  },
  {
   "cell_type": "code",
   "execution_count": null,
   "id": "bbbd5a98",
   "metadata": {},
   "outputs": [],
   "source": [
    "# Importamos las bibliotecas necesarias\n",
    "import plotly.express as px"
   ]
  },
  {
   "cell_type": "markdown",
   "id": "b80c6c6f",
   "metadata": {},
   "source": [
    "### 4.B. Ejemplo 2D: Gráfico de Dispersión Interactivo"
   ]
  },
  {
   "cell_type": "code",
   "execution_count": null,
   "id": "62267276",
   "metadata": {},
   "outputs": [],
   "source": [
    "# Generamos tres clusters de datos\n",
    "np.random.seed(0)\n",
    "\n",
    "# Generamos las coordenadas x, y de los clusters\n",
    "# Creamos dos clusters de datos aleatorios\n",
    "np.random.seed(0)  # para reproducibilidad\n",
    "x1 = np.random.normal(1, 0.3, 100)  # 100 datos con media 1 y desviación estándar 0.5\n",
    "y1 = np.random.normal(1, 0.3, 100)\n",
    "x2 = np.random.normal(2, 0.3, 100)  # 100 datos con media 2 y desviación estándar 0.5\n",
    "y2 = np.random.normal(2, 0.3, 100)\n",
    "x3 = np.random.normal(1, 0.3, 100)  # 100 datos con media 1 y desviación estándar 0.5\n",
    "y3 = np.random.normal(2, 0.3, 100)\n",
    "\n",
    "x = np.concatenate([x1,x2,x3])\n",
    "y = np.concatenate([y1,y2,y3])\n",
    "\n",
    "# Asignamos etiquetas a los clusters\n",
    "labels = np.repeat(['Cluster 1', 'Cluster 2', 'Cluster 3'], 100)\n",
    "\n",
    "# Creamos un DataFrame con los datos\n",
    "df = pd.DataFrame({'x': x, 'y': y, 'label': labels})\n",
    "\n",
    "# Creamos un gráfico de dispersión interactivo\n",
    "fig = px.scatter(df, x=\"x\", y=\"y\", color=\"label\")\n",
    "\n",
    "# Mostramos el gráfico\n",
    "fig.show()"
   ]
  },
  {
   "cell_type": "markdown",
   "id": "07d45f7a",
   "metadata": {},
   "source": [
    "Este gráfico es similar al gráfico de dispersión que hemos hecho anteriormente, pero con Plotly este gráfico es interactivo. Puedes pasar el cursor sobre los puntos para ver más información, hacer zoom y mover el gráfico."
   ]
  },
  {
   "cell_type": "markdown",
   "id": "c404341a",
   "metadata": {},
   "source": [
    "### 4.C. Ejemplo 3D: Gráfico de Dispersión 3D"
   ]
  },
  {
   "cell_type": "code",
   "execution_count": null,
   "id": "2861c785",
   "metadata": {},
   "outputs": [],
   "source": [
    "# Generamos la tercera coordenada de los clusters\n",
    "z1 = np.random.normal(1, 0.3, 100)\n",
    "z2 = np.random.normal(1.5, 0.4, 100)\n",
    "z3 = np.random.normal(3, 0.3, 100)\n",
    "z = np.concatenate([z1,z2,z3])\n",
    "\n",
    "# Añadimos la tercera coordenada al DataFrame\n",
    "df['z'] = z\n",
    "\n",
    "# Creamos un gráfico de dispersión 3D\n",
    "fig = px.scatter_3d(df, x='x', y='y', z='z', color='label')\n",
    "\n",
    "# Fijamos el tamaño de los marcadores. Alternativamente, podemos\n",
    "# usar size='alguna_columna_del_df'\n",
    "fig.update_traces(marker_size = 4)\n",
    "\n",
    "# Mostramos el gráfico\n",
    "fig.show()"
   ]
  },
  {
   "cell_type": "markdown",
   "id": "afe47a23",
   "metadata": {},
   "source": [
    "Aquí hemos creado un gráfico de dispersión 3D interactivo. Este gráfico permite explorar la relación entre tres variables a la vez. Además, puedes hacer girar el gráfico para verlo desde diferentes ángulos."
   ]
  },
  {
   "cell_type": "markdown",
   "id": "da3bde05",
   "metadata": {},
   "source": [
    "## 5. Conclusión"
   ]
  },
  {
   "cell_type": "markdown",
   "id": "2f459aeb",
   "metadata": {},
   "source": [
    "### 5.A. Recapitulación rápida"
   ]
  },
  {
   "cell_type": "markdown",
   "id": "3af099ca",
   "metadata": {},
   "source": [
    "En esta clase, hemos explorado diferentes herramientas y bibliotecas para la visualización de datos en Python. Comenzamos con una introducción a Matplotlib, una biblioteca fundamental para la visualización de datos en Python. Aprendimos cómo crear gráficos de líneas, gráficos de dispersión, gráficos de barras, diagramas de tarta y histogramas utilizando Matplotlib. Luego, nos adentramos en la personalización de gráficos, aprendiendo cómo ajustar colores, títulos, etiquetas de ejes y otros elementos visuales en nuestros gráficos.\n",
    "\n",
    "Posteriormente, exploramos brevemente Seaborn, una biblioteca que permite crear visualizaciones más atractivas y estadísticamente informativas. Aprendimos cómo cargar conjuntos de datos y crear gráficos como gráficos de pares, gráficos de barras y gráficos de dispersión utilizando Seaborn.\n",
    "\n",
    "Finalmente, introdujimos Plotly, una biblioteca que nos permite crear gráficos interactivos y personalizables. Vimos ejemplos de gráficos de dispersión interactivos en 2D y gráficos de dispersión 3D, que nos permiten explorar nuestros datos de manera más interactiva y detallada."
   ]
  },
  {
   "cell_type": "markdown",
   "id": "c3198c09",
   "metadata": {},
   "source": [
    "### 5.B. Recursos para aprendizaje posterior"
   ]
  },
  {
   "cell_type": "markdown",
   "id": "6547df56",
   "metadata": {},
   "source": [
    "Si deseas profundizar tus conocimientos sobre visualización de datos en Python, aquí tienes algunos recursos adicionales que pueden ser útiles:\n",
    "\n",
    "- Documentación oficial de Matplotlib: [https://matplotlib.org/stable/contents.html](https://matplotlib.org/stable/contents.html)\n",
    "- Documentación oficial de Seaborn: [https://seaborn.pydata.org/](https://seaborn.pydata.org/)\n",
    "- Documentación oficial de Plotly: [https://plotly.com/python/](https://plotly.com/python/)\n",
    "- Galería de ejemplos de Matplotlib: [https://matplotlib.org/stable/gallery/index.html](https://matplotlib.org/stable/gallery/index.html)\n",
    "- Tutoriales y ejemplos de Seaborn: [https://seaborn.pydata.org/examples/index.html](https://seaborn.pydata.org/examples/index.html)\n",
    "- Tutoriales y ejemplos de Plotly: [https://plotly.com/python/#tutorials](https://plotly.com/python/#tutorials)"
   ]
  },
  {
   "cell_type": "markdown",
   "id": "2ce7f678",
   "metadata": {},
   "source": [
    "### 5.C. Tiempo para preguntas"
   ]
  },
  {
   "cell_type": "markdown",
   "id": "fe6a5fbd",
   "metadata": {},
   "source": [
    "Si tienes alguna pregunta sobre los temas que hemos cubierto en esta clase, no dudes en hacerla."
   ]
  },
  {
   "cell_type": "code",
   "execution_count": null,
   "id": "180e5b8e",
   "metadata": {},
   "outputs": [],
   "source": []
  }
 ],
 "metadata": {
  "kernelspec": {
   "display_name": "Python 3 (ipykernel)",
   "language": "python",
   "name": "python3"
  },
  "language_info": {
   "codemirror_mode": {
    "name": "ipython",
    "version": 3
   },
   "file_extension": ".py",
   "mimetype": "text/x-python",
   "name": "python",
   "nbconvert_exporter": "python",
   "pygments_lexer": "ipython3",
   "version": "3.10.4"
  }
 },
 "nbformat": 4,
 "nbformat_minor": 5
}
